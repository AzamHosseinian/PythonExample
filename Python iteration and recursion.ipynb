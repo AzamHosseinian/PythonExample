{
 "cells": [
  {
   "cell_type": "markdown",
   "id": "127b1f65",
   "metadata": {},
   "source": [
    "# Python iteration and recursion"
   ]
  },
  {
   "cell_type": "markdown",
   "id": "88fd08bb",
   "metadata": {},
   "source": [
    "## Exercises 10"
   ]
  },
  {
   "cell_type": "markdown",
   "id": "efe2a8ba",
   "metadata": {},
   "source": [
    "### Exercise 01 \n",
    "Write a Python function to calculate first n numbers of Fibonacci sequence. (n is function input)\n",
    "\n",
    "Use recursion to solve the question!"
   ]
  },
  {
   "cell_type": "code",
   "execution_count": 1,
   "id": "2caa226c",
   "metadata": {},
   "outputs": [],
   "source": [
    "def fibonacci(n):\n",
    "    if n <= 0:\n",
    "        return []\n",
    "    elif n == 1:\n",
    "        return [0]\n",
    "    elif n == 2:\n",
    "        return [0, 1]\n",
    "    else:\n",
    "        fib = fibonacci(n-1)\n",
    "        fib.append(fib[-1] + fib[-2])\n",
    "        return fib"
   ]
  },
  {
   "cell_type": "code",
   "execution_count": 2,
   "id": "0875f366",
   "metadata": {},
   "outputs": [
    {
     "name": "stdout",
     "output_type": "stream",
     "text": [
      "[0, 1, 1, 2, 3, 5, 8]\n"
     ]
    }
   ],
   "source": [
    "print(fibonacci(7))"
   ]
  },
  {
   "cell_type": "code",
   "execution_count": null,
   "id": "a556eace",
   "metadata": {},
   "outputs": [],
   "source": []
  }
 ],
 "metadata": {
  "kernelspec": {
   "display_name": "Python 3 (ipykernel)",
   "language": "python",
   "name": "python3"
  },
  "language_info": {
   "codemirror_mode": {
    "name": "ipython",
    "version": 3
   },
   "file_extension": ".py",
   "mimetype": "text/x-python",
   "name": "python",
   "nbconvert_exporter": "python",
   "pygments_lexer": "ipython3",
   "version": "3.9.13"
  }
 },
 "nbformat": 4,
 "nbformat_minor": 5
}
