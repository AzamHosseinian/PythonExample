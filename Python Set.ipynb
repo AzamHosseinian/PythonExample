{
 "cells": [
  {
   "cell_type": "markdown",
   "id": "8595533b",
   "metadata": {},
   "source": [
    "# Python Set"
   ]
  },
  {
   "cell_type": "markdown",
   "id": "adda6eb8",
   "metadata": {},
   "source": [
    "## Exercise 01"
   ]
  },
  {
   "cell_type": "markdown",
   "id": "6f714973",
   "metadata": {},
   "source": [
    " 1. Find the length of the set it_companies\n",
    " 2. Add 'Twitter' to it_companies\n",
    " 3. Insert multiple IT companies at once to the set it_companies\n",
    " 4. Remove one of the companies from the set it_companies\n",
    " 5. What is the difference between remove and discard\n",
    "\n",
    " it_companies = {'Facebook','Google','Microsoft','Apple','IBM','Oracle','Amazon'}"
   ]
  },
  {
   "cell_type": "code",
   "execution_count": 1,
   "id": "4c543a51",
   "metadata": {},
   "outputs": [
    {
     "name": "stdout",
     "output_type": "stream",
     "text": [
      "7\n",
      "{'Apple', 'Twitter', 'Amazon', 'Google', 'Oracle', 'IBM', 'Microsoft', 'Facebook'}\n",
      "{'Oracle', 'Facebook', 'Apple', 'Twitter', 'Intel', 'Google', 'Microsoft', 'Amazon', 'HP', 'Cisco', 'IBM'}\n",
      "{'Oracle', 'Facebook', 'Apple', 'Twitter', 'Intel', 'Google', 'Microsoft', 'Amazon', 'HP', 'IBM'}\n",
      "{'Facebook', 'Apple', 'Twitter', 'Intel', 'Google', 'Microsoft', 'Amazon', 'HP', 'IBM'}\n"
     ]
    }
   ],
   "source": [
    "it_companies = {'Facebook', 'Google', 'Microsoft', 'Apple', 'IBM', 'Oracle', 'Amazon'}\n",
    "\n",
    "# 1\n",
    "print(len(it_companies))\n",
    "\n",
    "# 2\n",
    "it_companies.add('Twitter')\n",
    "print(it_companies)\n",
    "\n",
    "# 3\n",
    "it_companies.update(['Intel', 'Cisco', 'HP'])\n",
    "print(it_companies)\n",
    "\n",
    "# 4\n",
    "it_companies.remove('Cisco')\n",
    "print(it_companies)\n",
    "\n",
    "# 5\n",
    "it_companies.discard('Oracle')\n",
    "print(it_companies)"
   ]
  },
  {
   "cell_type": "code",
   "execution_count": 2,
   "id": "d68a7542",
   "metadata": {},
   "outputs": [
    {
     "ename": "KeyError",
     "evalue": "'Oracle'",
     "output_type": "error",
     "traceback": [
      "\u001b[0;31m---------------------------------------------------------------------------\u001b[0m",
      "\u001b[0;31mKeyError\u001b[0m                                  Traceback (most recent call last)",
      "\u001b[0;32m/var/folders/kf/6sjrjg4j01b3qd2y18kh_lb80000gn/T/ipykernel_3525/2769184951.py\u001b[0m in \u001b[0;36m<module>\u001b[0;34m\u001b[0m\n\u001b[0;32m----> 1\u001b[0;31m \u001b[0mit_companies\u001b[0m\u001b[0;34m.\u001b[0m\u001b[0mremove\u001b[0m\u001b[0;34m(\u001b[0m\u001b[0;34m'Oracle'\u001b[0m\u001b[0;34m)\u001b[0m\u001b[0;34m\u001b[0m\u001b[0;34m\u001b[0m\u001b[0m\n\u001b[0m\u001b[1;32m      2\u001b[0m \u001b[0mprint\u001b[0m\u001b[0;34m(\u001b[0m\u001b[0mit_companies\u001b[0m\u001b[0;34m)\u001b[0m\u001b[0;34m\u001b[0m\u001b[0;34m\u001b[0m\u001b[0m\n",
      "\u001b[0;31mKeyError\u001b[0m: 'Oracle'"
     ]
    }
   ],
   "source": [
    "it_companies.remove('Oracle') \n",
    "print(it_companies) "
   ]
  },
  {
   "cell_type": "markdown",
   "id": "67201a96",
   "metadata": {},
   "source": [
    "## Exercise 02"
   ]
  },
  {
   "cell_type": "markdown",
   "id": "5991e232",
   "metadata": {},
   "source": [
    "A = {19, 22, 24, 20, 25, 26}\n",
    "\n",
    "B = {19, 22, 20, 25, 26, 24, 28, 27}\n",
    "\n",
    " 1. Join A and B\n",
    " 2. Find A intersection B\n",
    " 3. Is A subset of B\n",
    " 4. Are A and B disjoint sets\n",
    " 5. Join A with B and B with A\n",
    " 6. What is the symmetric difference between A and B\n",
    " 7. Delete the sets completely"
   ]
  },
  {
   "cell_type": "code",
   "execution_count": 3,
   "id": "6f9c9f61",
   "metadata": {},
   "outputs": [
    {
     "name": "stdout",
     "output_type": "stream",
     "text": [
      "{19, 20, 22, 24, 25, 26, 27, 28}\n",
      "{19, 20, 22, 24, 25, 26}\n",
      "True\n",
      "False\n",
      "{19, 20, 22, 24, 25, 26, 27, 28}\n",
      "{19, 20, 22, 24, 25, 26, 27, 28}\n",
      "set()\n"
     ]
    }
   ],
   "source": [
    "A = {19, 22, 24, 20, 25, 26}\n",
    "B = {19, 22, 20, 25, 26, 24, 28, 27}\n",
    "\n",
    "# 1\n",
    "C = A.union(B)\n",
    "print(C)\n",
    "\n",
    "# 2\n",
    "D = A.intersection(B)\n",
    "print(D)\n",
    "\n",
    "# 3\n",
    "print(A.issubset(B)) \n",
    "\n",
    "# 4\n",
    "print(A.isdisjoint(B))\n",
    "\n",
    "# 5\n",
    "\n",
    "A.update(B)\n",
    "B.update(A)\n",
    "print(A)\n",
    "print(B)\n",
    "\n",
    "# 6\n",
    "E = A.symmetric_difference(B)\n",
    "print(E)\n",
    "\n",
    "# 7\n",
    "del A\n",
    "del B"
   ]
  },
  {
   "cell_type": "markdown",
   "id": "86a097d7",
   "metadata": {},
   "source": [
    "## Exercise 03"
   ]
  },
  {
   "cell_type": "markdown",
   "id": "cd54099f",
   "metadata": {},
   "source": [
    " 1. Convert the ages to a set\n",
    " 2. compare the length of the list and the set, which one is bigger?\n",
    " \n",
    "age = [22, 19, 24, 25, 26, 24, 25, 24]"
   ]
  },
  {
   "cell_type": "code",
   "execution_count": 5,
   "id": "706981c8",
   "metadata": {},
   "outputs": [
    {
     "name": "stdout",
     "output_type": "stream",
     "text": [
      "{19, 22, 24, 25, 26}\n",
      "The list has more elements than the set.\n"
     ]
    }
   ],
   "source": [
    "age = [22, 19, 24, 25, 26, 24, 25, 24]\n",
    "\n",
    "# 1\n",
    "age_set = set(age)\n",
    "print(age_set)\n",
    "\n",
    "# 2\n",
    "if len(age) > len(age_set):\n",
    "    print(\"The list has more elements than the set.\")\n",
    "elif len(age) < len(age_set):\n",
    "    print(\"The set has more elements than the list.\")\n",
    "else:\n",
    "    print(\"The list and the set have the same number of elements.\")"
   ]
  },
  {
   "cell_type": "markdown",
   "id": "389c81e7",
   "metadata": {},
   "source": [
    "## Exercise 04"
   ]
  },
  {
   "cell_type": "markdown",
   "id": "e922cea3",
   "metadata": {},
   "source": [
    "(I am a teacher and I love to inspire and teach people.)\n",
    "How many unique words have been used in the sentence?\n",
    "\n",
    "⚠️ Use the split methods and set to get the unique words."
   ]
  },
  {
   "cell_type": "code",
   "execution_count": 8,
   "id": "68f95537",
   "metadata": {},
   "outputs": [
    {
     "name": "stdout",
     "output_type": "stream",
     "text": [
      "The sentence has 10 unique words.\n"
     ]
    }
   ],
   "source": [
    "sentence = \"I am a teacher and I love to inspire and teach people.\"\n",
    "\n",
    "words = sentence.split()\n",
    "unique_words = set(words)\n",
    "num_unique_words = len(unique_words)\n",
    "\n",
    "print(\"The sentence has\", num_unique_words, \"unique words.\")"
   ]
  },
  {
   "cell_type": "code",
   "execution_count": 6,
   "id": "167823d1",
   "metadata": {},
   "outputs": [
    {
     "name": "stdout",
     "output_type": "stream",
     "text": [
      "The sentence has 10 unique words.\n"
     ]
    }
   ],
   "source": [
    "sentence = \"I am a teacher and I love to inspire and teach people.\"\n",
    "\n",
    "\n",
    "num_unique_words = len(set(sentence.split()))\n",
    "\n",
    "print(\"The sentence has\", num_unique_words, \"unique words.\")"
   ]
  },
  {
   "cell_type": "markdown",
   "id": "206b2151",
   "metadata": {},
   "source": [
    "💕💛🦕"
   ]
  }
 ],
 "metadata": {
  "kernelspec": {
   "display_name": "Python 3 (ipykernel)",
   "language": "python",
   "name": "python3"
  },
  "language_info": {
   "codemirror_mode": {
    "name": "ipython",
    "version": 3
   },
   "file_extension": ".py",
   "mimetype": "text/x-python",
   "name": "python",
   "nbconvert_exporter": "python",
   "pygments_lexer": "ipython3",
   "version": "3.9.13"
  }
 },
 "nbformat": 4,
 "nbformat_minor": 5
}
