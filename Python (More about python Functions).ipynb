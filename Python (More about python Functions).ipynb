{
 "cells": [
  {
   "cell_type": "markdown",
   "id": "041ca02a",
   "metadata": {},
   "source": [
    "# Python (More about python Functions)"
   ]
  },
  {
   "cell_type": "markdown",
   "id": "9ed6275c",
   "metadata": {},
   "source": [
    "## Exercises 12"
   ]
  },
  {
   "cell_type": "markdown",
   "id": "a43f808a",
   "metadata": {},
   "source": [
    "### Exercise 01\n",
    "If x=10, y=180, z=90 , change the values to x=90, y=10, z=180 using unpacking tuples."
   ]
  },
  {
   "cell_type": "code",
   "execution_count": 1,
   "id": "2b4b022f",
   "metadata": {},
   "outputs": [],
   "source": [
    "def swap_values(a, b, c):\n",
    "    a, b, c = c, a, b\n",
    "    return a, b, c"
   ]
  },
  {
   "cell_type": "code",
   "execution_count": 2,
   "id": "2898ef7a",
   "metadata": {},
   "outputs": [
    {
     "name": "stdout",
     "output_type": "stream",
     "text": [
      "90 10 180\n"
     ]
    }
   ],
   "source": [
    "x, y, z = 10, 180, 90\n",
    "x, y, z = swap_values(x, y, z)\n",
    "print(x, y, z)"
   ]
  },
  {
   "cell_type": "code",
   "execution_count": null,
   "id": "ae3ba18d",
   "metadata": {},
   "outputs": [],
   "source": []
  }
 ],
 "metadata": {
  "kernelspec": {
   "display_name": "Python 3 (ipykernel)",
   "language": "python",
   "name": "python3"
  },
  "language_info": {
   "codemirror_mode": {
    "name": "ipython",
    "version": 3
   },
   "file_extension": ".py",
   "mimetype": "text/x-python",
   "name": "python",
   "nbconvert_exporter": "python",
   "pygments_lexer": "ipython3",
   "version": "3.9.13"
  }
 },
 "nbformat": 4,
 "nbformat_minor": 5
}
