{
 "cells": [
  {
   "cell_type": "markdown",
   "id": "69e20b64",
   "metadata": {},
   "source": [
    "# Python Dictionary\n"
   ]
  },
  {
   "cell_type": "markdown",
   "id": "388c5a0c",
   "metadata": {},
   "source": [
    "## Exercise 01\n",
    "### 1. Create an empty dictionary called dog \n",
    "### 2. Add name, color, breed, legs, age to the dog dictionary"
   ]
  },
  {
   "cell_type": "code",
   "execution_count": 2,
   "id": "7493cced",
   "metadata": {},
   "outputs": [
    {
     "name": "stdout",
     "output_type": "stream",
     "text": [
      "{'name': 'piko', 'color': 'black', 'breed': 'Shih Tzu', 'legs': 4, 'age': 1}\n"
     ]
    }
   ],
   "source": [
    "\n",
    "dog = {}\n",
    "\n",
    "dog[\"name\"] = \"piko\"\n",
    "dog[\"color\"] = \"black\"\n",
    "dog[\"breed\"] = \"Shih Tzu\"\n",
    "dog[\"legs\"] = 4\n",
    "dog[\"age\"] = 1\n",
    "\n",
    "print(dog)\n"
   ]
  },
  {
   "cell_type": "code",
   "execution_count": null,
   "id": "92f98221",
   "metadata": {},
   "outputs": [],
   "source": []
  },
  {
   "cell_type": "markdown",
   "id": "cad77433",
   "metadata": {},
   "source": [
    "# Exercise 02\n",
    "### 1. Create a student dictionary and add first_name, last_name, gender, age, marital status, skills, country, city and address as keys for the dictionary\n",
    "### 2. Get the length of the student dictionary\n",
    "### 3. Get the value of skills and check the data type, it should be a list\n",
    "### 4. Modify the skills values by adding one or two skills\n",
    "### 5. Get the dictionary keys as a list \n",
    "### 6. Get the dictionary values as a list\n",
    "### 7. Change the dictionary to a list of tuples using items() method\n",
    "### 8. Delete one of the items in the dictionary\n",
    "### 9. Delete one of the dictionaries"
   ]
  },
  {
   "cell_type": "code",
   "execution_count": 2,
   "id": "e5e97cb4",
   "metadata": {},
   "outputs": [
    {
     "name": "stdout",
     "output_type": "stream",
     "text": [
      "Length of the student dictionary: 9\n"
     ]
    }
   ],
   "source": [
    "## 1\n",
    "student = {}\n",
    "\n",
    "student[\"first_name\"] = \"Azal\"\n",
    "student[\"last_name\"] = \"Hosseinian\"\n",
    "student[\"gender\"] = \"Female\"\n",
    "student[\"age\"] = 27\n",
    "student[\"marital_status\"] = \"Single\"\n",
    "student[\"skills\"] = [\"Python\"]\n",
    "student[\"country\"] = \"Iran\"\n",
    "student[\"city\"] = \"Gorgan\"\n",
    "student[\"address\"] = \"ValiAsr St.\"\n",
    "\n",
    "## 2\n",
    "print(\"Length of the student dictionary:\", len(student))"
   ]
  },
  {
   "cell_type": "code",
   "execution_count": 3,
   "id": "3234c594",
   "metadata": {},
   "outputs": [
    {
     "name": "stdout",
     "output_type": "stream",
     "text": [
      "Skills: ['Python']\n",
      "Data type of skills: <class 'list'>\n"
     ]
    }
   ],
   "source": [
    "## 3\n",
    "skills = student[\"skills\"]\n",
    "\n",
    "print(\"Skills:\", skills)\n",
    "print(\"Data type of skills:\", type(skills))"
   ]
  },
  {
   "cell_type": "code",
   "execution_count": 4,
   "id": "e8f2e72f",
   "metadata": {},
   "outputs": [
    {
     "name": "stdout",
     "output_type": "stream",
     "text": [
      "Modified Skills: ['Python', 'HTML', 'CSS']\n"
     ]
    }
   ],
   "source": [
    "## 4\n",
    "student[\"skills\"].append(\"HTML\")\n",
    "student[\"skills\"].append(\"CSS\")\n",
    "\n",
    "\n",
    "print(\"Modified Skills:\", student[\"skills\"])"
   ]
  },
  {
   "cell_type": "code",
   "execution_count": 5,
   "id": "8d01fff0",
   "metadata": {},
   "outputs": [
    {
     "name": "stdout",
     "output_type": "stream",
     "text": [
      "Keys: ['first_name', 'last_name', 'gender', 'age', 'marital_status', 'skills', 'country', 'city', 'address']\n"
     ]
    }
   ],
   "source": [
    "## 5\n",
    "keys = list(student.keys())\n",
    "\n",
    "\n",
    "print(\"Keys:\", keys)"
   ]
  },
  {
   "cell_type": "code",
   "execution_count": 6,
   "id": "20443267",
   "metadata": {},
   "outputs": [
    {
     "name": "stdout",
     "output_type": "stream",
     "text": [
      "Values: ['Azal', 'Hosseinian', 'Female', 27, 'Single', ['Python', 'HTML', 'CSS'], 'Iran', 'Gorgan', 'ValiAsr St.']\n"
     ]
    }
   ],
   "source": [
    "## 6\n",
    "values = list(student.values())\n",
    "\n",
    "\n",
    "print(\"Values:\", values)"
   ]
  },
  {
   "cell_type": "code",
   "execution_count": 7,
   "id": "a4ac33e7",
   "metadata": {},
   "outputs": [
    {
     "name": "stdout",
     "output_type": "stream",
     "text": [
      "List of Tuples: [('first_name', 'Azal'), ('last_name', 'Hosseinian'), ('gender', 'Female'), ('age', 27), ('marital_status', 'Single'), ('skills', ['Python', 'HTML', 'CSS']), ('country', 'Iran'), ('city', 'Gorgan'), ('address', 'ValiAsr St.')]\n"
     ]
    }
   ],
   "source": [
    "## 7\n",
    "items = list(student.items())\n",
    "\n",
    "\n",
    "print(\"List of Tuples:\", items)"
   ]
  },
  {
   "cell_type": "code",
   "execution_count": 8,
   "id": "420d65fd",
   "metadata": {},
   "outputs": [
    {
     "name": "stdout",
     "output_type": "stream",
     "text": [
      "Dictionary after deleting address: {'first_name': 'Azal', 'last_name': 'Hosseinian', 'gender': 'Female', 'age': 27, 'marital_status': 'Single', 'skills': ['Python', 'HTML', 'CSS'], 'country': 'Iran', 'city': 'Gorgan'}\n"
     ]
    }
   ],
   "source": [
    "## 8\n",
    "del student[\"address\"]\n",
    "\n",
    "\n",
    "print(\"Dictionary after deleting address:\", student)"
   ]
  },
  {
   "cell_type": "code",
   "execution_count": 9,
   "id": "45f030d3",
   "metadata": {},
   "outputs": [],
   "source": [
    "## 9\n",
    "del student"
   ]
  },
  {
   "cell_type": "markdown",
   "id": "cdbb77d2",
   "metadata": {},
   "source": [
    "## 💕"
   ]
  }
 ],
 "metadata": {
  "kernelspec": {
   "display_name": "Python 3 (ipykernel)",
   "language": "python",
   "name": "python3"
  },
  "language_info": {
   "codemirror_mode": {
    "name": "ipython",
    "version": 3
   },
   "file_extension": ".py",
   "mimetype": "text/x-python",
   "name": "python",
   "nbconvert_exporter": "python",
   "pygments_lexer": "ipython3",
   "version": "3.9.13"
  }
 },
 "nbformat": 4,
 "nbformat_minor": 5
}
