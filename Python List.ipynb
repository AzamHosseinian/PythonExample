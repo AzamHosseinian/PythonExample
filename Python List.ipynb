{
 "cells": [
  {
   "cell_type": "markdown",
   "id": "19d3faf4",
   "metadata": {},
   "source": [
    "# Python List"
   ]
  },
  {
   "cell_type": "markdown",
   "id": "11714724",
   "metadata": {},
   "source": [
    "## Exercise 01\n",
    "### The following is a list of 10 students ages:\n",
    "### ages = [19, 22, 19, 24, 20, 25, 26, 24, 25, 24]\n",
    "\n",
    "\n",
    "\n",
    "### 1. Sort the list and find the min and max age"
   ]
  },
  {
   "cell_type": "code",
   "execution_count": 1,
   "id": "4fedcc82",
   "metadata": {},
   "outputs": [
    {
     "name": "stdout",
     "output_type": "stream",
     "text": [
      "Sorted ages: [19, 19, 20, 22, 24, 24, 24, 25, 25, 26]\n",
      "Minimum age: 19\n",
      "Maximum age: 26\n"
     ]
    }
   ],
   "source": [
    "ages = [19, 22, 19, 24, 20, 25, 26, 24, 25, 24]\n",
    "\n",
    "ages.sort()\n",
    "\n",
    "#min_age = ages[0]\n",
    "#max_age = ages[-1]\n",
    "\n",
    "min_age = min(ages)\n",
    "max_age = max(ages)\n",
    "\n",
    "\n",
    "print(\"Sorted ages:\", ages)\n",
    "print(\"Minimum age:\", min_age)\n",
    "print(\"Maximum age:\", max_age)"
   ]
  },
  {
   "cell_type": "markdown",
   "id": "3f7942d2",
   "metadata": {},
   "source": [
    "### 2. Add the min age and the max age again to the list"
   ]
  },
  {
   "cell_type": "code",
   "execution_count": 2,
   "id": "cc6137c2",
   "metadata": {},
   "outputs": [
    {
     "name": "stdout",
     "output_type": "stream",
     "text": [
      "[19, 19, 20, 22, 24, 24, 24, 25, 25, 26, 19, 26]\n"
     ]
    }
   ],
   "source": [
    "ages.append(min_age)\n",
    "ages.append(max_age)\n",
    "\n",
    "print(ages)"
   ]
  },
  {
   "cell_type": "code",
   "execution_count": 3,
   "id": "dacb6df9",
   "metadata": {},
   "outputs": [
    {
     "name": "stdout",
     "output_type": "stream",
     "text": [
      "[19, 19, 19, 20, 22, 24, 24, 24, 25, 25, 26, 26]\n"
     ]
    }
   ],
   "source": [
    "ages.sort()\n",
    "print(ages)"
   ]
  },
  {
   "cell_type": "markdown",
   "id": "85222b1a",
   "metadata": {},
   "source": [
    "### 3. Find the median age"
   ]
  },
  {
   "cell_type": "code",
   "execution_count": 4,
   "id": "df440f57",
   "metadata": {},
   "outputs": [
    {
     "name": "stdout",
     "output_type": "stream",
     "text": [
      "Median age: 24.0\n"
     ]
    }
   ],
   "source": [
    "n = len(ages)\n",
    "if n % 2 == 0:\n",
    "    median_age = (ages[n//2-1] + ages[n//2]) / 2\n",
    "else:\n",
    "    median_age = ages[n//2]\n",
    "    \n",
    "print(\"Median age:\", median_age)"
   ]
  },
  {
   "cell_type": "markdown",
   "id": "d0dbf26b",
   "metadata": {},
   "source": [
    "### 4. Find the average age"
   ]
  },
  {
   "cell_type": "code",
   "execution_count": 5,
   "id": "a6474ad6",
   "metadata": {},
   "outputs": [
    {
     "name": "stdout",
     "output_type": "stream",
     "text": [
      "Average age: 22.75\n"
     ]
    }
   ],
   "source": [
    "#avg_age = sum(ages) / len(ages)\n",
    "\n",
    "avg_age = sum(ages) / n\n",
    "\n",
    "print(\"Average age:\", avg_age)"
   ]
  },
  {
   "cell_type": "markdown",
   "id": "581e9d5e",
   "metadata": {},
   "source": [
    "### 5. Find the range of the ages (max minus min)"
   ]
  },
  {
   "cell_type": "code",
   "execution_count": 6,
   "id": "bb7738d6",
   "metadata": {},
   "outputs": [
    {
     "name": "stdout",
     "output_type": "stream",
     "text": [
      "Range of ages: 7\n"
     ]
    }
   ],
   "source": [
    "range_of_ages = max_age - min_age\n",
    "\n",
    "print(\"Range of ages:\", range_of_ages)"
   ]
  },
  {
   "cell_type": "markdown",
   "id": "15b6953c",
   "metadata": {},
   "source": [
    "### 6. Compare the value of (min - average) and (max - average), use abs() method"
   ]
  },
  {
   "cell_type": "code",
   "execution_count": 7,
   "id": "c3cf822d",
   "metadata": {},
   "outputs": [
    {
     "name": "stdout",
     "output_type": "stream",
     "text": [
      "Abs diff between min age and avg: 3.75\n",
      "Abs diff between max age and avg: 3.25\n"
     ]
    }
   ],
   "source": [
    "difference_min_avg = abs(min_age - avg_age)\n",
    "difference_max_avg = abs(max_age - avg_age)\n",
    "\n",
    "print(\"Abs diff between min age and avg:\", difference_min_avg)\n",
    "print(\"Abs diff between max age and avg:\", difference_max_avg)"
   ]
  },
  {
   "cell_type": "code",
   "execution_count": 8,
   "id": "ef8f3d1f",
   "metadata": {},
   "outputs": [
    {
     "data": {
      "text/plain": [
       "True"
      ]
     },
     "execution_count": 8,
     "metadata": {},
     "output_type": "execute_result"
    }
   ],
   "source": [
    "difference_min_avg > difference_max_avg"
   ]
  },
  {
   "cell_type": "markdown",
   "id": "566cd217",
   "metadata": {},
   "source": [
    "##  🥳"
   ]
  }
 ],
 "metadata": {
  "kernelspec": {
   "display_name": "Python 3 (ipykernel)",
   "language": "python",
   "name": "python3"
  },
  "language_info": {
   "codemirror_mode": {
    "name": "ipython",
    "version": 3
   },
   "file_extension": ".py",
   "mimetype": "text/x-python",
   "name": "python",
   "nbconvert_exporter": "python",
   "pygments_lexer": "ipython3",
   "version": "3.9.13"
  }
 },
 "nbformat": 4,
 "nbformat_minor": 5
}
