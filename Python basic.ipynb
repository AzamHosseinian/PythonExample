{
 "cells": [
  {
   "cell_type": "markdown",
   "id": "638111ae",
   "metadata": {},
   "source": [
    "# Exercise 01"
   ]
  },
  {
   "cell_type": "code",
   "execution_count": 46,
   "id": "00179ec3",
   "metadata": {},
   "outputs": [
    {
     "name": "stdout",
     "output_type": "stream",
     "text": [
      "<class 'str'>\n",
      "<class 'str'>\n",
      "<class 'int'>\n",
      "<class 'float'>\n",
      "<class 'bool'>\n"
     ]
    }
   ],
   "source": [
    "print(type(\"filoger\"))\n",
    "print(type('19.0'))\n",
    "print(type(18))\n",
    "print(type(13.0))\n",
    "print(type(True))"
   ]
  },
  {
   "cell_type": "code",
   "execution_count": null,
   "id": "ca788c6e",
   "metadata": {},
   "outputs": [],
   "source": []
  },
  {
   "cell_type": "markdown",
   "id": "77010708",
   "metadata": {},
   "source": [
    "# Exercise 02"
   ]
  },
  {
   "cell_type": "code",
   "execution_count": 1,
   "id": "55a7b704",
   "metadata": {},
   "outputs": [
    {
     "ename": "ValueError",
     "evalue": "invalid literal for int() with base 10: 'Filoger'",
     "output_type": "error",
     "traceback": [
      "\u001b[0;31m---------------------------------------------------------------------------\u001b[0m",
      "\u001b[0;31mValueError\u001b[0m                                Traceback (most recent call last)",
      "\u001b[0;32m/var/folders/kf/6sjrjg4j01b3qd2y18kh_lb80000gn/T/ipykernel_765/2098719287.py\u001b[0m in \u001b[0;36m<module>\u001b[0;34m\u001b[0m\n\u001b[1;32m      1\u001b[0m \u001b[0mstring\u001b[0m \u001b[0;34m=\u001b[0m \u001b[0;34m\"Filoger\"\u001b[0m\u001b[0;34m\u001b[0m\u001b[0;34m\u001b[0m\u001b[0m\n\u001b[0;32m----> 2\u001b[0;31m \u001b[0mprint\u001b[0m\u001b[0;34m(\u001b[0m\u001b[0mint\u001b[0m\u001b[0;34m(\u001b[0m\u001b[0mstring\u001b[0m\u001b[0;34m)\u001b[0m\u001b[0;34m)\u001b[0m\u001b[0;34m\u001b[0m\u001b[0;34m\u001b[0m\u001b[0m\n\u001b[0m",
      "\u001b[0;31mValueError\u001b[0m: invalid literal for int() with base 10: 'Filoger'"
     ]
    }
   ],
   "source": [
    "string = \"Filoger\"\n",
    "print(int(string))"
   ]
  },
  {
   "cell_type": "code",
   "execution_count": 1,
   "id": "9efc841e",
   "metadata": {},
   "outputs": [
    {
     "name": "stdout",
     "output_type": "stream",
     "text": [
      "19\n"
     ]
    }
   ],
   "source": [
    "num = '19.0'\n",
    "num = (float(num))\n",
    "print(int(num))"
   ]
  },
  {
   "cell_type": "code",
   "execution_count": 53,
   "id": "8f1c4a35",
   "metadata": {},
   "outputs": [
    {
     "name": "stdout",
     "output_type": "stream",
     "text": [
      "18\n"
     ]
    }
   ],
   "source": [
    "print(int(18))"
   ]
  },
  {
   "cell_type": "code",
   "execution_count": 54,
   "id": "3cb501dd",
   "metadata": {},
   "outputs": [
    {
     "name": "stdout",
     "output_type": "stream",
     "text": [
      "13\n"
     ]
    }
   ],
   "source": [
    "print(int(13.0))"
   ]
  },
  {
   "cell_type": "code",
   "execution_count": 55,
   "id": "02cc9a1e",
   "metadata": {},
   "outputs": [
    {
     "name": "stdout",
     "output_type": "stream",
     "text": [
      "1\n"
     ]
    }
   ],
   "source": [
    "print(int(True))"
   ]
  },
  {
   "cell_type": "markdown",
   "id": "fe044364",
   "metadata": {},
   "source": [
    "# Exercise 03"
   ]
  },
  {
   "cell_type": "code",
   "execution_count": 6,
   "id": "d833e49b",
   "metadata": {},
   "outputs": [
    {
     "name": "stdout",
     "output_type": "stream",
     "text": [
      "Size of Filoger: 56 bytes\n"
     ]
    }
   ],
   "source": [
    "import sys\n",
    "\n",
    "my_string = \"Filoger\"\n",
    "size = sys.getsizeof(my_string)\n",
    "\n",
    "print(f\"Size of {my_string}: {size} bytes\")"
   ]
  },
  {
   "cell_type": "code",
   "execution_count": 40,
   "id": "bf71ab92",
   "metadata": {},
   "outputs": [
    {
     "name": "stdout",
     "output_type": "stream",
     "text": [
      "56\n",
      "53\n",
      "28\n",
      "24\n",
      "28\n"
     ]
    }
   ],
   "source": [
    "import sys\n",
    "\n",
    "print(sys.getsizeof(\"Filoger\"))\n",
    "print(sys.getsizeof('19.0'))\n",
    "print(sys.getsizeof(18))\n",
    "print(sys.getsizeof(13.0))\n",
    "print(sys.getsizeof(True))"
   ]
  },
  {
   "cell_type": "markdown",
   "id": "72d7eb40",
   "metadata": {},
   "source": [
    "# Exercise 04"
   ]
  },
  {
   "cell_type": "code",
   "execution_count": 41,
   "id": "10a4ee4c",
   "metadata": {},
   "outputs": [
    {
     "name": "stdout",
     "output_type": "stream",
     "text": [
      "The type of 'Filoger' is: <class 'str'>\n",
      "The running time of the program is: 0.0005671977996826172 seconds\n"
     ]
    }
   ],
   "source": [
    "start_time = time.time()\n",
    "\n",
    "data_type = type(\"Filoger\")\n",
    "print(\"The type of 'Filoger' is:\", data_type)\n",
    "\n",
    "end_time = time.time()\n",
    "running_time = end_time - start_time\n",
    "print(\"The running time of the program is:\", running_time, \"seconds\")\n"
   ]
  },
  {
   "cell_type": "code",
   "execution_count": 2,
   "id": "2ce9c444",
   "metadata": {},
   "outputs": [
    {
     "name": "stdout",
     "output_type": "stream",
     "text": [
      "The running time of the program is: 9.5367431640625e-07 seconds\n",
      "The running time of the program is: 7.152557373046875e-07 seconds\n",
      "The running time of the program is: 0.0 seconds\n",
      "The running time of the program is: 9.5367431640625e-07 seconds\n",
      "The running time of the program is: 0.0 seconds\n"
     ]
    }
   ],
   "source": [
    "import time\n",
    "def running_time(data):\n",
    "    start_time = time.time()\n",
    "    data = type(data)\n",
    "    end_time = time.time()\n",
    "    running_time = end_time - start_time\n",
    "    print(\"The running time of the program is:\", running_time, \"seconds\")\n",
    "\n",
    "data = ['Filoger', '19.0', 18, 13.0, True]\n",
    "for i in data:\n",
    "    running_time(i)"
   ]
  }
 ],
 "metadata": {
  "kernelspec": {
   "display_name": "Python 3 (ipykernel)",
   "language": "python",
   "name": "python3"
  },
  "language_info": {
   "codemirror_mode": {
    "name": "ipython",
    "version": 3
   },
   "file_extension": ".py",
   "mimetype": "text/x-python",
   "name": "python",
   "nbconvert_exporter": "python",
   "pygments_lexer": "ipython3",
   "version": "3.9.13"
  }
 },
 "nbformat": 4,
 "nbformat_minor": 5
}
