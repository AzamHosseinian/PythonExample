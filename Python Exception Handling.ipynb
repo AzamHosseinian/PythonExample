{
 "cells": [
  {
   "cell_type": "markdown",
   "id": "c169846c",
   "metadata": {},
   "source": [
    "# Python Exception Handling"
   ]
  },
  {
   "cell_type": "markdown",
   "id": "60ba00c0",
   "metadata": {},
   "source": [
    "## Exercises 11"
   ]
  },
  {
   "cell_type": "markdown",
   "id": "cb7a59f7",
   "metadata": {},
   "source": [
    "### Exercise 01\n",
    "print is type of err or and handle that\n",
    "\n",
    "company= 'Filoger!' print(car)"
   ]
  },
  {
   "cell_type": "code",
   "execution_count": 1,
   "id": "f4b7d573",
   "metadata": {},
   "outputs": [
    {
     "ename": "NameError",
     "evalue": "name 'car' is not defined",
     "output_type": "error",
     "traceback": [
      "\u001b[0;31m---------------------------------------------------------------------------\u001b[0m",
      "\u001b[0;31mNameError\u001b[0m                                 Traceback (most recent call last)",
      "\u001b[0;32m/var/folders/kf/6sjrjg4j01b3qd2y18kh_lb80000gn/T/ipykernel_1076/1094176797.py\u001b[0m in \u001b[0;36m<module>\u001b[0;34m\u001b[0m\n\u001b[1;32m      1\u001b[0m \u001b[0mcompany\u001b[0m \u001b[0;34m=\u001b[0m \u001b[0;34m'Filgoer!'\u001b[0m\u001b[0;34m\u001b[0m\u001b[0;34m\u001b[0m\u001b[0m\n\u001b[0;32m----> 2\u001b[0;31m \u001b[0mprint\u001b[0m\u001b[0;34m(\u001b[0m\u001b[0mcar\u001b[0m\u001b[0;34m)\u001b[0m\u001b[0;34m\u001b[0m\u001b[0;34m\u001b[0m\u001b[0m\n\u001b[0m",
      "\u001b[0;31mNameError\u001b[0m: name 'car' is not defined"
     ]
    }
   ],
   "source": [
    "company = 'Filgoer!'\n",
    "print(car)"
   ]
  },
  {
   "cell_type": "code",
   "execution_count": 2,
   "id": "ce1de58b",
   "metadata": {},
   "outputs": [
    {
     "name": "stdout",
     "output_type": "stream",
     "text": [
      "name 'car' is not defined\n"
     ]
    }
   ],
   "source": [
    "company = 'Filoger!'\n",
    "\n",
    "try:\n",
    "    print(car)\n",
    "except NameError as error :\n",
    "    print(error)"
   ]
  },
  {
   "cell_type": "markdown",
   "id": "3e93d693",
   "metadata": {},
   "source": [
    "### Exercise 02\n",
    "print is type of err or and handle that\n",
    "\n",
    "company= 'Filoger!' \n",
    "\n",
    "print(Filoger)"
   ]
  },
  {
   "cell_type": "code",
   "execution_count": 3,
   "id": "51934ad2",
   "metadata": {},
   "outputs": [
    {
     "ename": "SyntaxError",
     "evalue": "EOL while scanning string literal (3518236280.py, line 1)",
     "output_type": "error",
     "traceback": [
      "\u001b[0;36m  File \u001b[0;32m\"/var/folders/kf/6sjrjg4j01b3qd2y18kh_lb80000gn/T/ipykernel_1076/3518236280.py\"\u001b[0;36m, line \u001b[0;32m1\u001b[0m\n\u001b[0;31m    company = 'Filgoer!\u001b[0m\n\u001b[0m                       ^\u001b[0m\n\u001b[0;31mSyntaxError\u001b[0m\u001b[0;31m:\u001b[0m EOL while scanning string literal\n"
     ]
    }
   ],
   "source": [
    "company = 'Filgoer!\n",
    "print(company)"
   ]
  },
  {
   "cell_type": "code",
   "execution_count": 4,
   "id": "ce1c156e",
   "metadata": {},
   "outputs": [
    {
     "name": "stdout",
     "output_type": "stream",
     "text": [
      "name 'Filoger' is not defined\n"
     ]
    }
   ],
   "source": [
    "company = 'Filoger!'\n",
    "\n",
    "try:\n",
    "    print(Filoger)\n",
    "except NameError as error :\n",
    "    print(error)"
   ]
  },
  {
   "cell_type": "markdown",
   "id": "610c87bf",
   "metadata": {},
   "source": [
    "### Exercise 03\n",
    "print is type of err or and handle that\n",
    "\n",
    "company= 'Filoger!' \n",
    "\n",
    "print(company+5)"
   ]
  },
  {
   "cell_type": "code",
   "execution_count": 5,
   "id": "eb60f9e7",
   "metadata": {},
   "outputs": [
    {
     "ename": "SyntaxError",
     "evalue": "EOL while scanning string literal (2992524128.py, line 1)",
     "output_type": "error",
     "traceback": [
      "\u001b[0;36m  File \u001b[0;32m\"/var/folders/kf/6sjrjg4j01b3qd2y18kh_lb80000gn/T/ipykernel_1076/2992524128.py\"\u001b[0;36m, line \u001b[0;32m1\u001b[0m\n\u001b[0;31m    company = 'Filgoer!\u001b[0m\n\u001b[0m                       ^\u001b[0m\n\u001b[0;31mSyntaxError\u001b[0m\u001b[0;31m:\u001b[0m EOL while scanning string literal\n"
     ]
    }
   ],
   "source": [
    "company = 'Filgoer!\n",
    "print(company+5)"
   ]
  },
  {
   "cell_type": "code",
   "execution_count": 6,
   "id": "0ae9e807",
   "metadata": {},
   "outputs": [
    {
     "name": "stdout",
     "output_type": "stream",
     "text": [
      "can only concatenate str (not \"int\") to str\n"
     ]
    }
   ],
   "source": [
    "company = 'Filoger!'\n",
    "try:\n",
    "    print(company + 5)\n",
    "except TypeError as error:\n",
    "    print(error)"
   ]
  },
  {
   "cell_type": "code",
   "execution_count": null,
   "id": "6aff3b89",
   "metadata": {},
   "outputs": [],
   "source": []
  },
  {
   "cell_type": "markdown",
   "id": "c730d9a1",
   "metadata": {},
   "source": [
    "### Exercise 04\n",
    "print is type of err or and handle that\n",
    "\n",
    "company= 'Filoger!' \n",
    "\n",
    "print(company[25])"
   ]
  },
  {
   "cell_type": "code",
   "execution_count": 7,
   "id": "033c5c73",
   "metadata": {},
   "outputs": [
    {
     "ename": "SyntaxError",
     "evalue": "EOL while scanning string literal (2590277151.py, line 1)",
     "output_type": "error",
     "traceback": [
      "\u001b[0;36m  File \u001b[0;32m\"/var/folders/kf/6sjrjg4j01b3qd2y18kh_lb80000gn/T/ipykernel_1076/2590277151.py\"\u001b[0;36m, line \u001b[0;32m1\u001b[0m\n\u001b[0;31m    company = 'Filgoer!\u001b[0m\n\u001b[0m                       ^\u001b[0m\n\u001b[0;31mSyntaxError\u001b[0m\u001b[0;31m:\u001b[0m EOL while scanning string literal\n"
     ]
    }
   ],
   "source": [
    "company = 'Filgoer!\n",
    "print(company[25])"
   ]
  },
  {
   "cell_type": "code",
   "execution_count": 8,
   "id": "0e2a57e9",
   "metadata": {},
   "outputs": [
    {
     "name": "stdout",
     "output_type": "stream",
     "text": [
      "string index out of range\n"
     ]
    }
   ],
   "source": [
    "company= 'Filoger!'\n",
    "try:\n",
    "    print(company[25])\n",
    "except IndexError as err:\n",
    "    print(err)\n",
    "    "
   ]
  },
  {
   "cell_type": "markdown",
   "id": "a2147bf0",
   "metadata": {},
   "source": [
    "### Exercise 05\n",
    "print is type of err or and handle that\n",
    "\n",
    "dict={'Python':2, 'DIP':7, 'DL':8}\n",
    "\n",
    "print(dict['CV'])"
   ]
  },
  {
   "cell_type": "code",
   "execution_count": 9,
   "id": "bc989a95",
   "metadata": {},
   "outputs": [
    {
     "ename": "KeyError",
     "evalue": "'CV'",
     "output_type": "error",
     "traceback": [
      "\u001b[0;31m---------------------------------------------------------------------------\u001b[0m",
      "\u001b[0;31mKeyError\u001b[0m                                  Traceback (most recent call last)",
      "\u001b[0;32m/var/folders/kf/6sjrjg4j01b3qd2y18kh_lb80000gn/T/ipykernel_1076/1237848036.py\u001b[0m in \u001b[0;36m<module>\u001b[0;34m\u001b[0m\n\u001b[1;32m      1\u001b[0m \u001b[0mdict\u001b[0m \u001b[0;34m=\u001b[0m \u001b[0;34m{\u001b[0m\u001b[0;34m'Python'\u001b[0m\u001b[0;34m:\u001b[0m \u001b[0;36m2\u001b[0m\u001b[0;34m,\u001b[0m \u001b[0;34m'DIP'\u001b[0m\u001b[0;34m:\u001b[0m \u001b[0;36m7\u001b[0m\u001b[0;34m,\u001b[0m \u001b[0;34m'DL'\u001b[0m\u001b[0;34m:\u001b[0m \u001b[0;36m8\u001b[0m\u001b[0;34m}\u001b[0m\u001b[0;34m\u001b[0m\u001b[0;34m\u001b[0m\u001b[0m\n\u001b[0;32m----> 2\u001b[0;31m \u001b[0mprint\u001b[0m \u001b[0;34m(\u001b[0m\u001b[0mdict\u001b[0m\u001b[0;34m[\u001b[0m\u001b[0;34m'CV'\u001b[0m\u001b[0;34m]\u001b[0m\u001b[0;34m)\u001b[0m\u001b[0;34m\u001b[0m\u001b[0;34m\u001b[0m\u001b[0m\n\u001b[0m",
      "\u001b[0;31mKeyError\u001b[0m: 'CV'"
     ]
    }
   ],
   "source": [
    "dict = {'Python': 2, 'DIP': 7, 'DL': 8}\n",
    "print (dict['CV'])"
   ]
  },
  {
   "cell_type": "code",
   "execution_count": 10,
   "id": "18f7ef5b",
   "metadata": {},
   "outputs": [
    {
     "name": "stdout",
     "output_type": "stream",
     "text": [
      "'CV'\n",
      "Key not found in dictionary\n"
     ]
    }
   ],
   "source": [
    "dict={'Python':2, 'DIP':7, 'DL':8}\n",
    "try:\n",
    "    print(dict['CV'])\n",
    "except KeyError as err:\n",
    "    print(err)\n",
    "    print(\"Key not found in dictionary\")"
   ]
  },
  {
   "cell_type": "markdown",
   "id": "687f7af4",
   "metadata": {},
   "source": [
    "### Exercise 06\n",
    "print is type of err or and handle that\n",
    "\n",
    "code= '45145GT' \n",
    "\n",
    "int(code)"
   ]
  },
  {
   "cell_type": "code",
   "execution_count": 11,
   "id": "1a693770",
   "metadata": {},
   "outputs": [
    {
     "ename": "ValueError",
     "evalue": "invalid literal for int() with base 10: '45145GT'",
     "output_type": "error",
     "traceback": [
      "\u001b[0;31m---------------------------------------------------------------------------\u001b[0m",
      "\u001b[0;31mValueError\u001b[0m                                Traceback (most recent call last)",
      "\u001b[0;32m/var/folders/kf/6sjrjg4j01b3qd2y18kh_lb80000gn/T/ipykernel_1076/169274546.py\u001b[0m in \u001b[0;36m<module>\u001b[0;34m\u001b[0m\n\u001b[1;32m      1\u001b[0m \u001b[0mcode\u001b[0m \u001b[0;34m=\u001b[0m \u001b[0;34m'45145GT'\u001b[0m\u001b[0;34m\u001b[0m\u001b[0;34m\u001b[0m\u001b[0m\n\u001b[0;32m----> 2\u001b[0;31m \u001b[0mint\u001b[0m\u001b[0;34m(\u001b[0m\u001b[0mcode\u001b[0m\u001b[0;34m)\u001b[0m\u001b[0;34m\u001b[0m\u001b[0;34m\u001b[0m\u001b[0m\n\u001b[0m",
      "\u001b[0;31mValueError\u001b[0m: invalid literal for int() with base 10: '45145GT'"
     ]
    }
   ],
   "source": [
    "code = '45145GT'\n",
    "int(code)"
   ]
  },
  {
   "cell_type": "code",
   "execution_count": 12,
   "id": "a64ac77f",
   "metadata": {},
   "outputs": [
    {
     "name": "stdout",
     "output_type": "stream",
     "text": [
      "invalid literal for int() with base 10: '45145GT'\n",
      "code is not a valid integer.\n"
     ]
    }
   ],
   "source": [
    "code = '45145GT'\n",
    "\n",
    "try:\n",
    "    code_int = int(code)\n",
    "    print(code_int)\n",
    "except ValueError as err:\n",
    "    print(err)\n",
    "    print(\"code is not a valid integer.\")"
   ]
  },
  {
   "cell_type": "markdown",
   "id": "3202a4c0",
   "metadata": {},
   "source": [
    "# Thanks"
   ]
  }
 ],
 "metadata": {
  "kernelspec": {
   "display_name": "Python 3 (ipykernel)",
   "language": "python",
   "name": "python3"
  },
  "language_info": {
   "codemirror_mode": {
    "name": "ipython",
    "version": 3
   },
   "file_extension": ".py",
   "mimetype": "text/x-python",
   "name": "python",
   "nbconvert_exporter": "python",
   "pygments_lexer": "ipython3",
   "version": "3.9.13"
  }
 },
 "nbformat": 4,
 "nbformat_minor": 5
}
