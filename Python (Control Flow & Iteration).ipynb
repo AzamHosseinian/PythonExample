{
 "cells": [
  {
   "cell_type": "markdown",
   "id": "6a637da7",
   "metadata": {},
   "source": [
    "# Python (Control Flow & Iteration)"
   ]
  },
  {
   "cell_type": "markdown",
   "id": "765f8d41",
   "metadata": {},
   "source": [
    "## Exercise 01\n",
    "### Write a program in Python to display the Factorial of a number"
   ]
  },
  {
   "cell_type": "code",
   "execution_count": 5,
   "id": "5f5c4a1b",
   "metadata": {},
   "outputs": [
    {
     "name": "stdout",
     "output_type": "stream",
     "text": [
      "Enter a number: 9\n",
      "Factorial of 9 is 362880\n"
     ]
    }
   ],
   "source": [
    "num = int(input(\"Enter a number: \"))\n",
    "factorial = 1\n",
    "i = 1\n",
    "\n",
    "while i <= num:\n",
    "    factorial *= i\n",
    "    i += 1\n",
    "\n",
    "print(\"Factorial of {} is {}\".format(num, factorial))"
   ]
  },
  {
   "cell_type": "code",
   "execution_count": 6,
   "id": "46d61064",
   "metadata": {},
   "outputs": [
    {
     "name": "stdout",
     "output_type": "stream",
     "text": [
      "Enter a number: 9\n",
      "Factorial of 9 is 362880\n"
     ]
    }
   ],
   "source": [
    "number = int(input(\"Enter a number: \"))\n",
    "factorial = 1\n",
    "for i in range(1, number + 1):\n",
    "    factorial *= i\n",
    "output = \"Factorial of {} is {}\".format(number, factorial)\n",
    "print(output)"
   ]
  },
  {
   "cell_type": "markdown",
   "id": "99e7b193",
   "metadata": {},
   "source": [
    "## Exercise 02\n",
    "### Generate random integer number and Write a program to guess the number"
   ]
  },
  {
   "cell_type": "code",
   "execution_count": 1,
   "id": "4f8ab4e4",
   "metadata": {},
   "outputs": [
    {
     "name": "stdout",
     "output_type": "stream",
     "text": [
      "Guess a number between 1 and 100: 60\n",
      "Wrong, guess the higher number!\n",
      "Guess a number between 1 and 100: 78\n",
      "Wrong, guess the higher number!\n",
      "Guess a number between 1 and 100: 89\n",
      "Wrong, guess the higher number!\n",
      "Guess a number between 1 and 100: 90\n",
      "Wrong, guess the higher number!\n",
      "Guess a number between 1 and 100: 100\n",
      "Wrong, guess the lower number!\n",
      "Guess a number between 1 and 100: 92\n",
      "Wrong, guess the higher number!\n",
      "Guess a number between 1 and 100: 97\n",
      "Wrong, guess the lower number!\n",
      "Guess a number between 1 and 100: 95\n",
      "Wrong, guess the lower number!\n",
      "Guess a number between 1 and 100: 94\n",
      "Wrong, guess the lower number!\n",
      "Guess a number between 1 and 100: 93\n",
      "Correct, good job!\n"
     ]
    }
   ],
   "source": [
    "import random\n",
    "\n",
    "generated_number = random.randint(1, 100)\n",
    "\n",
    "while True:\n",
    "    guess = int(input(\"Guess a number between 1 and 100: \"))\n",
    "\n",
    "    if guess > generated_number:\n",
    "        print(\"Wrong, guess the lower number!\")\n",
    "    elif guess < generated_number:\n",
    "        print(\"Wrong, guess the higher number!\")\n",
    "    else:\n",
    "        print(\"Correct, good job!\")\n",
    "        break"
   ]
  },
  {
   "cell_type": "code",
   "execution_count": 1,
   "id": "ff2fcb36",
   "metadata": {},
   "outputs": [
    {
     "name": "stdout",
     "output_type": "stream",
     "text": [
      "Guess the number between 1 and 99: 8\n",
      "Wrong! Guess a higher number.\n",
      "Guess again: 80\n",
      "Wrong! Guess a lower number.\n",
      "Guess again: 60\n",
      "Wrong! Guess a lower number.\n",
      "Guess again: 40\n",
      "Wrong! Guess a lower number.\n",
      "Guess again: 20\n",
      "Wrong! Guess a lower number.\n",
      "Guess again: 10\n",
      "Wrong! Guess a higher number.\n",
      "Guess again: 12\n",
      "Wrong! Guess a higher number.\n",
      "Guess again: 15\n",
      "Wrong! Guess a lower number.\n",
      "Guess again: 13\n",
      "Wrong! Guess a higher number.\n",
      "Guess again: 14\n",
      "Correct! Good job.\n"
     ]
    }
   ],
   "source": [
    "import random\n",
    "\n",
    "hads_com = random.randint(1, 99)\n",
    "hads_user = int(input('Guess the number between 1 and 99: '))\n",
    "\n",
    "while hads_user != hads_com:\n",
    "    if hads_user > hads_com:\n",
    "        print('Wrong! Guess a lower number.')\n",
    "    else:\n",
    "        print('Wrong! Guess a higher number.')\n",
    "    hads_user = int(input('Guess again: '))\n",
    "\n",
    "print('Correct! Good job.')\n"
   ]
  },
  {
   "cell_type": "markdown",
   "id": "0f1fec59",
   "metadata": {},
   "source": [
    "## Exercise 03\n",
    "### Print the following pattern using loops"
   ]
  },
  {
   "cell_type": "code",
   "execution_count": 15,
   "id": "330cc530",
   "metadata": {},
   "outputs": [
    {
     "name": "stdout",
     "output_type": "stream",
     "text": [
      "0 * 0 = 0\n",
      "1 * 1 = 1\n",
      "2 * 2 = 4\n",
      "3 * 3 = 9\n",
      "4 * 4 = 16\n",
      "5 * 5 = 25\n",
      "6 * 6 = 36\n",
      "7 * 7 = 49\n",
      "8 * 8 = 64\n",
      "9 * 9 = 81\n",
      "10 * 10 = 100\n"
     ]
    }
   ],
   "source": [
    "for i in range(11):\n",
    "    print(f\"{i} * {i} = {i * i}\")"
   ]
  },
  {
   "cell_type": "markdown",
   "id": "456fc8df",
   "metadata": {},
   "source": [
    "## Exercise 04\n",
    "### Use for loop to iterate from 0 to n (input number) and print the sum of all numbers."
   ]
  },
  {
   "cell_type": "code",
   "execution_count": 14,
   "id": "f4ac3728",
   "metadata": {},
   "outputs": [
    {
     "name": "stdout",
     "output_type": "stream",
     "text": [
      "Enter a number: 100\n",
      "The sum of all numbers is 5050.\n"
     ]
    }
   ],
   "source": [
    "n = int(input(\"Enter a number: \"))\n",
    "\n",
    "sum_of_numbers = 0\n",
    "\n",
    "for i in range(n + 1):\n",
    "    sum_of_numbers += i\n",
    "\n",
    "print(f\"The sum of all numbers is {sum_of_numbers}.\")"
   ]
  },
  {
   "cell_type": "code",
   "execution_count": null,
   "id": "850883a2",
   "metadata": {},
   "outputs": [],
   "source": []
  },
  {
   "cell_type": "markdown",
   "id": "ee888870",
   "metadata": {},
   "source": [
    "## Exercise 05\n",
    "### This is a fruit list, ['banana','orange','mango','lemon'] reverse the order using loop."
   ]
  },
  {
   "cell_type": "code",
   "execution_count": 16,
   "id": "84b66f91",
   "metadata": {},
   "outputs": [
    {
     "name": "stdout",
     "output_type": "stream",
     "text": [
      "['lemon', 'mango', 'orange', 'banana']\n"
     ]
    }
   ],
   "source": [
    "fruits = ['banana', 'orange', 'mango', 'lemon']\n",
    "\n",
    "reversed_fruits = []\n",
    "\n",
    "for f in fruits:\n",
    "    reversed_fruits.insert(0, f)\n",
    "\n",
    "print(reversed_fruits)\n"
   ]
  },
  {
   "cell_type": "code",
   "execution_count": null,
   "id": "99939120",
   "metadata": {},
   "outputs": [],
   "source": []
  },
  {
   "cell_type": "markdown",
   "id": "198cefe2",
   "metadata": {},
   "source": [
    "## Exercise 06\n",
    "### Find the max element of the [ 8, 120, 83, 89, 24, 97.5, 201 ]"
   ]
  },
  {
   "cell_type": "code",
   "execution_count": 17,
   "id": "494c4eef",
   "metadata": {},
   "outputs": [
    {
     "name": "stdout",
     "output_type": "stream",
     "text": [
      "The maximum element is 201.\n"
     ]
    }
   ],
   "source": [
    "numbers = [8, 120, 83, 89, 24, 97.5, 201]\n",
    "\n",
    "max_element = numbers[0]\n",
    "\n",
    "for number in numbers:\n",
    "    if number > max_element:\n",
    "        max_element = number\n",
    "\n",
    "print(f\"The maximum element is {max_element}.\")"
   ]
  },
  {
   "cell_type": "markdown",
   "id": "d486e4c3",
   "metadata": {},
   "source": [
    "# thank you 💛"
   ]
  }
 ],
 "metadata": {
  "kernelspec": {
   "display_name": "Python 3 (ipykernel)",
   "language": "python",
   "name": "python3"
  },
  "language_info": {
   "codemirror_mode": {
    "name": "ipython",
    "version": 3
   },
   "file_extension": ".py",
   "mimetype": "text/x-python",
   "name": "python",
   "nbconvert_exporter": "python",
   "pygments_lexer": "ipython3",
   "version": "3.9.13"
  }
 },
 "nbformat": 4,
 "nbformat_minor": 5
}
