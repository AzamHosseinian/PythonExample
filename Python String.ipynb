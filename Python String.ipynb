{
 "cells": [
  {
   "cell_type": "markdown",
   "id": "33940529",
   "metadata": {},
   "source": [
    "# Python String"
   ]
  },
  {
   "cell_type": "markdown",
   "id": "28c2082c",
   "metadata": {},
   "source": [
    "# Exercises 08"
   ]
  },
  {
   "cell_type": "markdown",
   "id": "6a5d8a1c",
   "metadata": {},
   "source": [
    "## Exercise 01\n",
    "\n",
    "Count the number of characters (characters frequency) in a string and print the result as a\n",
    "dictionary!\n",
    "\n",
    "\n",
    "Example: input: 'Filoger', output: {'f': 1,'i': 1,'l': 1,'o': 1,'g': 1,'e': 2,'r': 1}"
   ]
  },
  {
   "cell_type": "code",
   "execution_count": 1,
   "id": "7caf73b2",
   "metadata": {},
   "outputs": [
    {
     "name": "stdout",
     "output_type": "stream",
     "text": [
      "Enter a string: azaliah\n",
      "{'a': 3, 'z': 1, 'l': 1, 'i': 1, 'h': 1}\n"
     ]
    }
   ],
   "source": [
    "string = input(\"Enter a string: \")\n",
    "\n",
    "char_freq = {}\n",
    "\n",
    "for char in string:\n",
    "    if char not in char_freq:\n",
    "        char_freq[char] = 1\n",
    "    else:\n",
    "        char_freq[char] += 1\n",
    "        \n",
    "print(char_freq)"
   ]
  },
  {
   "cell_type": "markdown",
   "id": "7ff1ff5e",
   "metadata": {},
   "source": [
    "## Exercise 02\n",
    "place 'Google' with the 'ChatGPT' the following text and print that again!\n",
    "\n",
    "'Google is the border of science and innovation!'\n",
    "\n",
    "Example: output: 'ChatGPT is the border of science and innovation!'"
   ]
  },
  {
   "cell_type": "code",
   "execution_count": 3,
   "id": "8a07b168",
   "metadata": {},
   "outputs": [
    {
     "name": "stdout",
     "output_type": "stream",
     "text": [
      "ChatGPT is the border of science and innovation!\n"
     ]
    }
   ],
   "source": [
    "text = 'Google is the border of science and innovation!'\n",
    "\n",
    "new_text = text.replace('Google', 'ChatGPT')\n",
    "\n",
    "print(new_text)"
   ]
  },
  {
   "cell_type": "markdown",
   "id": "db4ce61f",
   "metadata": {},
   "source": [
    "## Exercise 03\n",
    "Get the current data and time and print the output (same as example)\n",
    "\n",
    "❌ use datatime library to get the data and time\n",
    "\n",
    "❌ use f-string to print the output!\n",
    "\n",
    "\n",
    "example :\n",
    "output: Current date is Feb 2 2023, and the time is 14:51"
   ]
  },
  {
   "cell_type": "code",
   "execution_count": 4,
   "id": "99b8eb20",
   "metadata": {},
   "outputs": [
    {
     "name": "stdout",
     "output_type": "stream",
     "text": [
      "Current date is Mar 02 2023, and the time is 17:43\n"
     ]
    }
   ],
   "source": [
    "from datetime import datetime\n",
    "\n",
    "now = datetime.now()\n",
    "\n",
    "date_string = now.strftime('%b %d %Y')\n",
    "time_string = now.strftime('%H:%M')\n",
    "\n",
    "print(f\"Current date is {date_string}, and the time is {time_string}\")"
   ]
  },
  {
   "cell_type": "markdown",
   "id": "d4094bd9",
   "metadata": {},
   "source": [
    "## Exercise 04\n",
    "How many time 'filoger' is repeated in the following text?\n",
    "\n",
    "\n",
    "#### 'about FILOGER: Filgoer is an educational institute that focuses on AI. filoger is the biggest farsispeakers AI community.'\n",
    "\n",
    "point : \n",
    "use f-string to print the output!\n",
    "\n",
    "Uppercase and lowercase letters do not matter."
   ]
  },
  {
   "cell_type": "code",
   "execution_count": 2,
   "id": "68ceffa5",
   "metadata": {},
   "outputs": [
    {
     "name": "stdout",
     "output_type": "stream",
     "text": [
      "'filoger' appears 3 times in the text.\n"
     ]
    }
   ],
   "source": [
    "text = \"about FILOGER: Filoger is an educational institute that focuses on AI. filoger is the biggest farsispeakers AI community.\"\n",
    "\n",
    "lowercase_text = text.lower()\n",
    "count = lowercase_text.count('filoger')\n",
    "\n",
    "print(f\"'filoger' appears {count} times in the text.\")"
   ]
  },
  {
   "cell_type": "markdown",
   "id": "ad92841a",
   "metadata": {},
   "source": [
    "yeki az filogera eshtebah type shode bood dorostesh kardm bad run grftm 🙈\n",
    "\n",
    "un bala tuye tozihate soal shekle asli k tuye pdf bud ro gozashtam"
   ]
  },
  {
   "cell_type": "markdown",
   "id": "a080c094",
   "metadata": {},
   "source": [
    "🐬🐬"
   ]
  }
 ],
 "metadata": {
  "kernelspec": {
   "display_name": "Python 3 (ipykernel)",
   "language": "python",
   "name": "python3"
  },
  "language_info": {
   "codemirror_mode": {
    "name": "ipython",
    "version": 3
   },
   "file_extension": ".py",
   "mimetype": "text/x-python",
   "name": "python",
   "nbconvert_exporter": "python",
   "pygments_lexer": "ipython3",
   "version": "3.9.13"
  }
 },
 "nbformat": 4,
 "nbformat_minor": 5
}
