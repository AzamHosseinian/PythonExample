{
 "cells": [
  {
   "cell_type": "markdown",
   "id": "c9263ade",
   "metadata": {},
   "source": [
    "# Python Operators"
   ]
  },
  {
   "cell_type": "markdown",
   "id": "dcf02b63",
   "metadata": {},
   "source": [
    "## Exercise 01\n",
    "### Get a number as circle diameter, and calculate the circle area!"
   ]
  },
  {
   "cell_type": "code",
   "execution_count": 10,
   "id": "aa45d3d7",
   "metadata": {},
   "outputs": [
    {
     "name": "stdout",
     "output_type": "stream",
     "text": [
      "Enter the diameter of the circle: 18\n",
      "Circle area is 254.469\n"
     ]
    }
   ],
   "source": [
    "import math\n",
    "\n",
    "diameter = float(input(\"Enter the diameter of the circle: \"))\n",
    "radius = diameter / 2\n",
    "area = math.pi * (radius ** 2)\n",
    "\n",
    "print(\"Circle area is {:.3f}\".format(area))"
   ]
  },
  {
   "cell_type": "code",
   "execution_count": null,
   "id": "b25b0002",
   "metadata": {},
   "outputs": [],
   "source": []
  },
  {
   "cell_type": "markdown",
   "id": "ebeb75e3",
   "metadata": {},
   "source": [
    "## Exercise 02\n",
    "### Get width, height and length ,then calculate and print the surface area and volume of a cuboid!"
   ]
  },
  {
   "cell_type": "code",
   "execution_count": 18,
   "id": "b91161e8",
   "metadata": {},
   "outputs": [
    {
     "name": "stdout",
     "output_type": "stream",
     "text": [
      "Enter the width of the cuboid: 18\n",
      "Enter the height of the cuboid: 4\n",
      "Enter the length of the cuboid: 5\n",
      "Volume of cuboid is 360.00 and Surface area of cuboid is 364.000!\n"
     ]
    }
   ],
   "source": [
    "width = float(input(\"Enter the width of the cuboid: \"))\n",
    "height = float(input(\"Enter the height of the cuboid: \"))\n",
    "length = float(input(\"Enter the length of the cuboid: \"))\n",
    "\n",
    "volume = width * height * length\n",
    "surface_area = 2 * (width * length + height * length + height * width)\n",
    "\n",
    "output = \"Volume of cuboid is {:.2f} and Surface area of cuboid is {:.3f}!\".format(volume, surface_area)\n",
    "\n",
    "print(output)"
   ]
  },
  {
   "cell_type": "markdown",
   "id": "2051a5a8",
   "metadata": {},
   "source": [
    "## Exercise 03\n",
    "### input(2 number) and print sum, division, subtraction, multiplication"
   ]
  },
  {
   "cell_type": "code",
   "execution_count": 3,
   "id": "dfd2e693",
   "metadata": {},
   "outputs": [
    {
     "name": "stdout",
     "output_type": "stream",
     "text": [
      "Enter the first number: 8\n",
      "Enter the second number: 4\n",
      "sum = 12, division = 2, subtraction = 4, multiplication = 32\n"
     ]
    }
   ],
   "source": [
    "num1 = int(input(\"Enter the first number: \"))\n",
    "num2 = int(input(\"Enter the second number: \"))\n",
    "\n",
    "sum_result = num1 + num2\n",
    "division = num1 / num2\n",
    "subtraction = num1 - num2\n",
    "multiplication = num1 * num2\n",
    "\n",
    "print(\"sum = {}, division = {:.0f}, subtraction = {}, multiplication = {}\"\n",
    "      .format(sum_result, division, subtraction, multiplication))"
   ]
  },
  {
   "cell_type": "code",
   "execution_count": null,
   "id": "944b433b",
   "metadata": {},
   "outputs": [],
   "source": []
  },
  {
   "cell_type": "markdown",
   "id": "03ddd068",
   "metadata": {},
   "source": [
    "## Exercise 04\n",
    "### Get two string, concatenate them and print the result!"
   ]
  },
  {
   "cell_type": "code",
   "execution_count": 13,
   "id": "871ab262",
   "metadata": {},
   "outputs": [
    {
     "name": "stdout",
     "output_type": "stream",
     "text": [
      "Enter the first string: string_1\n",
      "Enter the second string: string_2\n",
      "Result is: \"string_1 string_2\"\n"
     ]
    }
   ],
   "source": [
    "string_1 = input(\"Enter the first string: \")\n",
    "string_2 = input(\"Enter the second string: \")\n",
    "\n",
    "result = \"{} {}\".format(string_1, string_2)\n",
    "\n",
    "print(\"Result is: \\\"{}\\\"\".format(result))"
   ]
  },
  {
   "cell_type": "code",
   "execution_count": null,
   "id": "fcf58c98",
   "metadata": {},
   "outputs": [],
   "source": []
  },
  {
   "cell_type": "markdown",
   "id": "d9fb11a6",
   "metadata": {},
   "source": [
    "## Exercise 05\n",
    "### Write a Python program to convert Fahrenheit to Celcius."
   ]
  },
  {
   "cell_type": "code",
   "execution_count": 4,
   "id": "8281f658",
   "metadata": {},
   "outputs": [
    {
     "name": "stdout",
     "output_type": "stream",
     "text": [
      "Enter the temperature in Fahrenheit: 86\n",
      "86.0 degree Fahrenheit is equal to 30.0 degree Celsius.\n"
     ]
    }
   ],
   "source": [
    "fahrenheit = float(input(\"Enter the temperature in Fahrenheit: \"))\n",
    "\n",
    "celsius = (fahrenheit - 32) / (1.8)\n",
    "output = \"{} degree Fahrenheit is equal to {:.1f} degree Celsius.\".format(fahrenheit, celsius)\n",
    "\n",
    "print(output)"
   ]
  },
  {
   "cell_type": "code",
   "execution_count": null,
   "id": "bae35d30",
   "metadata": {},
   "outputs": [],
   "source": []
  },
  {
   "cell_type": "markdown",
   "id": "35be35ce",
   "metadata": {},
   "source": [
    "## Exercise 06\n",
    "### Write a code to create following pattern!"
   ]
  },
  {
   "cell_type": "code",
   "execution_count": 16,
   "id": "6a7550d8",
   "metadata": {},
   "outputs": [
    {
     "name": "stdout",
     "output_type": "stream",
     "text": [
      "#\n",
      "##\n",
      "###\n",
      "####\n",
      "#####\n",
      "######\n"
     ]
    }
   ],
   "source": [
    "for num in range(1,7):\n",
    "        print(\"#\" * num)"
   ]
  },
  {
   "cell_type": "markdown",
   "id": "50553ce3",
   "metadata": {},
   "source": [
    "### 💕🦕"
   ]
  }
 ],
 "metadata": {
  "kernelspec": {
   "display_name": "Python 3 (ipykernel)",
   "language": "python",
   "name": "python3"
  },
  "language_info": {
   "codemirror_mode": {
    "name": "ipython",
    "version": 3
   },
   "file_extension": ".py",
   "mimetype": "text/x-python",
   "name": "python",
   "nbconvert_exporter": "python",
   "pygments_lexer": "ipython3",
   "version": "3.9.13"
  }
 },
 "nbformat": 4,
 "nbformat_minor": 5
}
