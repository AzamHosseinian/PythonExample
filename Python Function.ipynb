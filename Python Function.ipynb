{
 "cells": [
  {
   "cell_type": "markdown",
   "id": "ad0beb64",
   "metadata": {},
   "source": [
    "# Python Function"
   ]
  },
  {
   "cell_type": "markdown",
   "id": "8082efeb",
   "metadata": {},
   "source": [
    "# Exercises 09"
   ]
  },
  {
   "cell_type": "markdown",
   "id": "0b1e9f75",
   "metadata": {},
   "source": [
    "## Exercise 01\n",
    "Write a Python function to print the odd numbers from a given list.\n",
    "\n",
    "Sample List : [1, 2, 3, 4, 5, 6, 7, 8, 9], Expected Result : [1, 3, 5, 7, 9]"
   ]
  },
  {
   "cell_type": "code",
   "execution_count": 9,
   "id": "a39e359f",
   "metadata": {},
   "outputs": [],
   "source": [
    "def print_odd_numbers(numbers):\n",
    "    odd_numbers = []\n",
    "    for num in numbers:\n",
    "        if num % 2 != 0:\n",
    "            odd_numbers.append(num)\n",
    "    return odd_numbers"
   ]
  },
  {
   "cell_type": "code",
   "execution_count": 10,
   "id": "a9101ec0",
   "metadata": {},
   "outputs": [
    {
     "name": "stdout",
     "output_type": "stream",
     "text": [
      "[1, 3, 5, 7, 9]\n"
     ]
    }
   ],
   "source": [
    "sample_list = [1, 2, 3, 4, 5, 6, 7, 8, 9]\n",
    "odd_numbers = print_odd_numbers(sample_list)\n",
    "print(odd_numbers)"
   ]
  },
  {
   "cell_type": "markdown",
   "id": "d768c403",
   "metadata": {},
   "source": [
    "## Exercise 02\n",
    "Write a Python function to calculate first n numbers of Fibonacci sequence. (n is function input)\n",
    "\n",
    "Use iteration to solve the question!"
   ]
  },
  {
   "cell_type": "markdown",
   "id": "3dfa26fb",
   "metadata": {},
   "source": [
    "### calculating Fibonacci using for loop:"
   ]
  },
  {
   "cell_type": "code",
   "execution_count": 3,
   "id": "f4b12257",
   "metadata": {},
   "outputs": [],
   "source": [
    "def fibonacci(n):\n",
    "    fib_sequence = [0, 1]\n",
    "    for i in range(2, n):\n",
    "        next_num = fib_sequence[i-1] + fib_sequence[i-2]\n",
    "        fib_sequence.append(next_num)\n",
    "    return fib_sequence"
   ]
  },
  {
   "cell_type": "code",
   "execution_count": 4,
   "id": "6c587a65",
   "metadata": {},
   "outputs": [
    {
     "name": "stdout",
     "output_type": "stream",
     "text": [
      "[0, 1, 1, 2, 3, 5, 8]\n"
     ]
    }
   ],
   "source": [
    "fib_7 = fibonacci(7)\n",
    "print(fib_7)"
   ]
  },
  {
   "cell_type": "markdown",
   "id": "b8f1afc3",
   "metadata": {},
   "source": [
    "### calculating Fibonacci using while loop:"
   ]
  },
  {
   "cell_type": "code",
   "execution_count": 5,
   "id": "2fc2f805",
   "metadata": {},
   "outputs": [],
   "source": [
    "def fibonacci(n):\n",
    "    a, b = 0, 1\n",
    "    result = []\n",
    "\n",
    "    while len(result) < n:\n",
    "        result.append(a)\n",
    "        a, b = b, a + b\n",
    "\n",
    "    return result"
   ]
  },
  {
   "cell_type": "code",
   "execution_count": 6,
   "id": "e14e59af",
   "metadata": {},
   "outputs": [
    {
     "name": "stdout",
     "output_type": "stream",
     "text": [
      "[0, 1, 1, 2, 3, 5, 8]\n"
     ]
    }
   ],
   "source": [
    "fib_7 = fibonacci(7)\n",
    "print(fib_7)"
   ]
  },
  {
   "cell_type": "markdown",
   "id": "a047bae4",
   "metadata": {},
   "source": [
    "## Exercise 03\n",
    "\n",
    "Write a Python function to sort a given list of dictionaries (employees) using Lambda. (Sort by\n",
    "age, then for same ages, sort by name)\n",
    "\n",
    "employees = [{\"name\": \"Sanaz\",\"age\": 14}, {\"name\": \"Hamed\",\"age\": 18}, {\"name\": \"Azam\",\"age\": 14},{\"name\": \"Zahra\",\"age\": 16}, {\"name\": \"Shayan\",\"age\": 18}, {\"name\": \"Zahra\",\"age\": 17}]"
   ]
  },
  {
   "cell_type": "code",
   "execution_count": 7,
   "id": "747b6ffa",
   "metadata": {},
   "outputs": [],
   "source": [
    "def sort_employees(employees):\n",
    "    employees.sort(key=lambda x: (x['age'], x['name']))\n",
    "    return employees"
   ]
  },
  {
   "cell_type": "code",
   "execution_count": 8,
   "id": "123b99c9",
   "metadata": {},
   "outputs": [
    {
     "name": "stdout",
     "output_type": "stream",
     "text": [
      "[{'name': 'Azam', 'age': 14}, {'name': 'Sanaz', 'age': 14}, {'name': 'Zahra', 'age': 16}, {'name': 'Zahra', 'age': 17}, {'name': 'Hamed', 'age': 18}, {'name': 'Shayan', 'age': 18}]\n"
     ]
    }
   ],
   "source": [
    "employees = [{\"name\": \"Sanaz\",\"age\": 14}, {\"name\": \"Hamed\",\"age\": 18}, {\"name\": \"Azam\",\"age\": 14},{\"name\": \"Zahra\",\"age\": 16}, {\"name\": \"Shayan\",\"age\": 18}, {\"name\": \"Zahra\",\"age\": 17}]\n",
    "\n",
    "sorted_employees = sort_employees(employees)\n",
    "print(sorted_employees)"
   ]
  },
  {
   "cell_type": "markdown",
   "id": "a9e7937d",
   "metadata": {},
   "source": [
    "Thanks 💛"
   ]
  },
  {
   "cell_type": "code",
   "execution_count": null,
   "id": "02798210",
   "metadata": {},
   "outputs": [],
   "source": []
  }
 ],
 "metadata": {
  "kernelspec": {
   "display_name": "Python 3 (ipykernel)",
   "language": "python",
   "name": "python3"
  },
  "language_info": {
   "codemirror_mode": {
    "name": "ipython",
    "version": 3
   },
   "file_extension": ".py",
   "mimetype": "text/x-python",
   "name": "python",
   "nbconvert_exporter": "python",
   "pygments_lexer": "ipython3",
   "version": "3.9.13"
  }
 },
 "nbformat": 4,
 "nbformat_minor": 5
}
