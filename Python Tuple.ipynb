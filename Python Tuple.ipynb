{
 "cells": [
  {
   "cell_type": "markdown",
   "id": "55f6b638",
   "metadata": {},
   "source": [
    "# Python Tuple"
   ]
  },
  {
   "cell_type": "markdown",
   "id": "880bcef2",
   "metadata": {},
   "source": [
    "## Exercise 01\n",
    "### 1. Create an empty tuple\n",
    "### 2. Create a tuple containing names of your sisters and your brothers, separately (imaginary siblings are fine) \n",
    "### 3. Join brothers and sisters tuples and assign it to siblings\n",
    "### 4. How many siblings do you have?\n",
    "### 5. Modify the siblings tuple and add the name of your father and mother and assign it to family_members "
   ]
  },
  {
   "cell_type": "code",
   "execution_count": null,
   "id": "2a2d1049",
   "metadata": {},
   "outputs": [],
   "source": []
  },
  {
   "cell_type": "code",
   "execution_count": 1,
   "id": "2a3ed094",
   "metadata": {},
   "outputs": [
    {
     "name": "stdout",
     "output_type": "stream",
     "text": [
      "You have 4 siblings.\n",
      "Family members: ('Afshin', 'Amin', 'Akram', 'azal', 'Taranom', 'Mohammad')\n"
     ]
    }
   ],
   "source": [
    "# Create an empty tuple\n",
    "empty_tuple = ()\n",
    "\n",
    "brothers = ('Afshin', 'Amin')\n",
    "sisters = ('Akram','azal')\n",
    "\n",
    "\n",
    "siblings = brothers + sisters\n",
    "\n",
    "print(\"You have\", len(siblings) , \"siblings.\")\n",
    "\n",
    "\n",
    "num_siblings = len(siblings)\n",
    "\n",
    "\n",
    "family_members = siblings + (\"Taranom\", \"Mohammad\")\n",
    "print(\"Family members:\", family_members)"
   ]
  },
  {
   "cell_type": "markdown",
   "id": "2c5e5bd2",
   "metadata": {},
   "source": [
    "## Exercise 02\n",
    "### 1. Create fruits, vegetables and animal products tuples, separately \n",
    "### 2. Join the above three tuples and assign it to a variable called food_stuff_tp\n",
    "### 3. Change the about food_stuff_tp tuple to a food_stuff_lt list\n",
    "### 4. Slice out the middle item or items from the food_stuff_tp tuple or food_stuff_lt list\n",
    "### 5. Slice out the first three items and the last three items from food_staff_lt list\n",
    "### 6. Delete the food_staff_tp tuple completely"
   ]
  },
  {
   "cell_type": "code",
   "execution_count": 13,
   "id": "072fa5ba",
   "metadata": {},
   "outputs": [
    {
     "name": "stdout",
     "output_type": "stream",
     "text": [
      "['apple', 'banana', 'lemon', 'carrot', 'potato', 'broccoli', 'eggs', 'milk', 'cheese', 'chicken']\n",
      "Middle items: ['potato', 'broccoli', 'eggs']\n",
      "First three: ['apple', 'banana', 'lemon']\n",
      "Last three: ['milk', 'cheese', 'chicken']\n"
     ]
    }
   ],
   "source": [
    "# 1. Create fruits, vegetables and animal products tuples, separately\n",
    "\n",
    "fruits = ('apple', 'banana','lemon')\n",
    "vegetables = ('carrot', 'potato', 'broccoli')\n",
    "animal_products = ('eggs','milk', 'cheese', 'chicken')\n",
    "\n",
    "\n",
    "\n",
    "# 2. Join the above three tuples and assign it to a variable called food_stuff_tp\n",
    "\n",
    "food_stuff_tp = fruits + vegetables + animal_products\n",
    "\n",
    "\n",
    "\n",
    "# 3. Change the about food_stuff_tp tuple to a food_stuff_lt list\n",
    "\n",
    "food_stuff_lt = list(food_stuff_tp)\n",
    "print(food_stuff_lt)\n",
    "\n",
    "\n",
    "\n",
    "# 4. Slice out the middle item or items from the food_stuff_tp tuple or food_stuff_lt list\n",
    "\n",
    "middle = len(food_stuff_lt) // 2\n",
    "middle_items = food_stuff_lt[middle - 1:middle + 2]\n",
    "\n",
    "print(\"Middle items:\", middle_items)\n",
    "\n",
    "\n",
    "\n",
    "# 5. Slice out the first three items and the last three items from food_staff_lt list\n",
    "\n",
    "first_three = food_stuff_lt[:3]\n",
    "last_three = food_stuff_lt[-3:]\n",
    "\n",
    "\n",
    "\n",
    "print(\"First three:\", first_three)\n",
    "print(\"Last three:\", last_three)\n",
    "\n",
    "\n",
    "\n",
    "# 6. Delete the food_staff_tp tuple completely\n",
    "del food_stuff_tp"
   ]
  },
  {
   "cell_type": "code",
   "execution_count": null,
   "id": "ea17ecb9",
   "metadata": {},
   "outputs": [],
   "source": []
  },
  {
   "cell_type": "markdown",
   "id": "ce6341e1",
   "metadata": {},
   "source": [
    "## Exercise 03\n",
    "### 1. Check if 'Estonia' is a nordic country, print True, Otherwise print False!\n",
    "### 2. Check if 'Iceland' is a nordic country, print True, Otherwise print False!\n",
    "\n",
    "### nordic_countries = ('Denmark','Finland','Iceland','Norway','Sweden')"
   ]
  },
  {
   "cell_type": "code",
   "execution_count": 14,
   "id": "48aec4de",
   "metadata": {},
   "outputs": [
    {
     "name": "stdout",
     "output_type": "stream",
     "text": [
      "False\n",
      "True\n"
     ]
    }
   ],
   "source": [
    "nordic_countries = ('Denmark', 'Finland', 'Iceland', 'Norway', 'Sweden')\n",
    "\n",
    "# 1. Check if 'Estonia' is a Nordic country\n",
    "if 'Estonia' in nordic_countries:\n",
    "    print(\"True\")\n",
    "else:\n",
    "    print(\"False\")\n",
    "\n",
    "# 2. Check if 'Iceland' is a Nordic country\n",
    "if 'Iceland' in nordic_countries:\n",
    "    print(\"True\")\n",
    "else:\n",
    "    print(\"False\")"
   ]
  },
  {
   "cell_type": "markdown",
   "id": "a4a5c130",
   "metadata": {},
   "source": [
    "💕"
   ]
  }
 ],
 "metadata": {
  "kernelspec": {
   "display_name": "Python 3 (ipykernel)",
   "language": "python",
   "name": "python3"
  },
  "language_info": {
   "codemirror_mode": {
    "name": "ipython",
    "version": 3
   },
   "file_extension": ".py",
   "mimetype": "text/x-python",
   "name": "python",
   "nbconvert_exporter": "python",
   "pygments_lexer": "ipython3",
   "version": "3.9.13"
  }
 },
 "nbformat": 4,
 "nbformat_minor": 5
}
